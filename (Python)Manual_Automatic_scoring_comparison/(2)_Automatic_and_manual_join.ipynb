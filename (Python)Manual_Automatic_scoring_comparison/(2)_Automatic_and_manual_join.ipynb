{
 "cells": [
  {
   "cell_type": "markdown",
   "id": "64a920b3-4cce-41fa-bf7e-cf2b2ed60c9d",
   "metadata": {},
   "source": [
    "# 2. Manual and Automatic Brain State Scoring Concatenation \n",
    "\n",
    "This project aims to compare the accuracy of an automated machine learning model with human observation in the classification of rat brain states. \n",
    "The dataset used in this study comprises 50 rats. This markdown document details the process applied to one of these cases as an example. The data used for the automatic scoring was previously obtained from an automated ML scorer. \n",
    "The ML scorer's timeline aligns with the timeline from the human-scored data, facilitating a direct comparison between the automated model's outputs and human observations.\n",
    "\n",
    "The steps are as follows:\n",
    "\n",
    "1. **Gather Final Times of Recordings**: The final brain states are imported from an Excel file, specifically 'FINAL_BRAINSTATES.xlsx'.\n",
    "\n",
    "2. **Import Automatic Score Data**: The data, from a CSV file named '433_BL1.csv', is the output of the automated brain state classification.\n",
    "\n",
    "3. **Import Manual Score Data**: The manually classified brain states are imported from a pickle file named '433_score.pkl'.\n",
    "\n",
    "4. **Isolate Brain State for Automatic Scoring**: The 'brainstate' column, indicating the brain state from automatic classification, is extracted.\n",
    "\n",
    "5. **Concatenate Brain States**: The 'brainstate' column from the automatic classification is concatenated to the final brain states DataFrame.\n",
    "\n",
    "6. **Modify Specific Brain State Values**: Certain 'brainstate' values are adjusted. For instance, 'brainstate' values equal to 3 are replaced with 4.\n",
    "\n",
    "7. **Filter Time**: The data is filtered to retain only the records between 10 am to 2 pm.\n",
    "\n",
    "8. **Reset and Rename Columns**: The DataFrame's index is reset. The 'brainstate' column is renamed to 'automatic_score' and columns not needed for the analysis are dropped.\n",
    "\n",
    "9. **Modify Manual Score Data**: In the manual score data, 'brainstate' is renamed to 'manual_score' and irrelevant columns are dropped.\n",
    "\n",
    "10. **Concatenate Manual and Automatic Scores**: The 'manual_score' and 'automatic_score' are concatenated into a single DataFrame.\n",
    "\n",
    "11. **Drop Last Row**: The final row of the DataFrame, which is not required, is dropped.\n",
    "\n",
    "12. **Export to CSV**: The consolidated DataFrame is exported as a CSV file named 'manual_auto_433.csv' for future use.\n"
   ]
  },
  {
   "cell_type": "code",
   "execution_count": 1,
   "id": "501ffe23",
   "metadata": {},
   "outputs": [],
   "source": [
    "import pandas as pd\n",
    "import numpy as np"
   ]
  },
  {
   "cell_type": "code",
   "execution_count": 2,
   "id": "b9e8a6c5",
   "metadata": {},
   "outputs": [],
   "source": [
    "#gather final times of recordings to use them as templates\n",
    "final_brainstates = pd.read_excel('/Users/valentinreateguirangel/Python/Katerina_final_brainstates(excel)/FINAL_BRAINSTATES.xlsx', sheet_name ='Sheet2')\n",
    "#import automatic score data \n",
    "automatic_score = pd.read_csv('/Users/valentinreateguirangel/Python/Automatic_scoring/433_BL1.csv')\n",
    "#import manual score data\n",
    "manual_score = pd.read_pickle('/Users/valentinreateguirangel/Python/Manual_scoring/Alex_scored/433_score.pkl')"
   ]
  },
  {
   "cell_type": "code",
   "execution_count": 3,
   "id": "a1dad2fa",
   "metadata": {},
   "outputs": [],
   "source": [
    "#Isolating brain state only to copy it to final_brainstate by deault idex\n",
    "auto_brainstate = automatic_score[['brainstate']]"
   ]
  },
  {
   "cell_type": "code",
   "execution_count": 4,
   "id": "42b5a4dd",
   "metadata": {},
   "outputs": [],
   "source": [
    "#concatenating auto_brainstate values to final_brainstate into an new df\n",
    "final_auto_brain = pd.concat([final_brainstates, auto_brainstate], axis=1)\n",
    "final_auto_brain.loc[auto_brainstate['brainstate'] == 3, 'brainstate'] = 4"
   ]
  },
  {
   "cell_type": "code",
   "execution_count": 5,
   "id": "9fb0dd3d",
   "metadata": {},
   "outputs": [],
   "source": [
    "#Slicing data to get only the time from 10 am to 14 pm\n",
    "target_time = final_auto_brain.loc[(final_auto_brain['ZT'] == 3)| \n",
    "                                    (final_auto_brain['ZT'] == 4)|\n",
    "                                    (final_auto_brain['ZT'] == 5)|\n",
    "                                    (final_auto_brain['ZT'] == 6),['ZT','LT','brainstate']]\n",
    "#change the name of brainstate to recognise the automatic score for posterior steps\n",
    "target_time= target_time.reset_index()\n",
    "target_time = target_time.rename(columns={'brainstate': 'automatic_score'})\n",
    "target_time= target_time.drop(['LT','ZT','index'], axis=1)"
   ]
  },
  {
   "cell_type": "code",
   "execution_count": 6,
   "id": "512da039",
   "metadata": {},
   "outputs": [],
   "source": [
    "#values in the manual score \n",
    "manual_score = manual_score.rename(columns={'brainstate': 'manual_score'})\n",
    "manual_score= manual_score.drop(['start_epoch','end_epoch'], axis=1)"
   ]
  },
  {
   "cell_type": "code",
   "execution_count": 7,
   "id": "e03259bf",
   "metadata": {},
   "outputs": [],
   "source": [
    "#concatenating manual score and automatic score\n",
    "manual_and_automatic = pd.concat([target_time, manual_score], axis = 1)\n",
    "manual_and_automatic= manual_and_automatic.drop(manual_and_automatic.index[-1])"
   ]
  },
  {
   "cell_type": "code",
   "execution_count": 8,
   "id": "2905b32c",
   "metadata": {},
   "outputs": [],
   "source": [
    "file_path = '/Users/valentinreateguirangel/Python/Manual_and_auto_score/manual_auto_433.csv'\n",
    "manual_and_automatic.to_csv(file_path, index=False)"
   ]
  }
 ],
 "metadata": {
  "kernelspec": {
   "display_name": "Python 3 (ipykernel)",
   "language": "python",
   "name": "python3"
  },
  "language_info": {
   "codemirror_mode": {
    "name": "ipython",
    "version": 3
   },
   "file_extension": ".py",
   "mimetype": "text/x-python",
   "name": "python",
   "nbconvert_exporter": "python",
   "pygments_lexer": "ipython3",
   "version": "3.9.13"
  }
 },
 "nbformat": 4,
 "nbformat_minor": 5
}
