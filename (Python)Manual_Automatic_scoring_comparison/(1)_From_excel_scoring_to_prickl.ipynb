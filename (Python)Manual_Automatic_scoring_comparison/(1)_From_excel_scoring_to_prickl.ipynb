{
 "cells": [
  {
   "cell_type": "markdown",
   "id": "8bd2a2fc-7edb-4245-88b7-5d708e5f9b05",
   "metadata": {
    "tags": []
   },
   "source": [
    "#  1 Brain State Data Processing\n",
    "\n",
    "This script is used for processing brain state data. It follows these main steps:\n",
    "\n",
    "1. **Define a Mapping Function**: A mapping function `map_states` is defined which categorizes the brain states into specific integer labels based on the condition of each row in the original DataFrame. The labels are as follows:\n",
    "    * 2: `durR = 1`\n",
    "    * 1: `durNR = 1`\n",
    "    * 0: `durW = 1`\n",
    "    * 4: `seizure = 1`\n",
    "    * 5: `noise/packet loss = 1`\n",
    "2. **Create a New DataFrame**: A new DataFrame `brain_states` is created that only includes the `start_epoch` column from the original DataFrame and a new `brainstate` column that contains the mapped values from the `map_states` function.\n",
    "3. **Reset Index**: The index of the new DataFrame is reset for consistency.\n",
    "4. **Create End Epoch Column**: A new column `end_epoch` is created in the `brain_states` DataFrame. Each value in `end_epoch` is incremented by 5 starting from 5.\n",
    "5. **Reorder Columns**: The DataFrame columns are reordered to `['brainstate','start_epoch','end_epoch']`.\n",
    "6. **Check NaN Values**: The number of NaN values in the `brainstate` column is checked and printed.\n",
    "7. **Identify NaN Values**: A boolean mask is created to identify the NaN values in the `brainstate` column, and then the indices of these NaN values are obtained.\n",
    "8. **Assign Brain State Labels**: Brain state labels are manually assigned to specific indices that were identified as having NaN values in the `brainstate` column.\n",
    "9. **Change Data Type**: The data type of the `brainstate` column is changed to `int64` for consistency.\n",
    "10. **Export DataFrame**: Finally, the DataFrame `brain_states` is exported as a pickle file for future use. The file name includes an animal number for tracking.\n",
    "'''\n",
    "This script is used for processing brain state data. It follows these main steps:\n",
    "\n",
    "1. Define a mapping function `map_states` which categorizes the brain states into specific integer labels based on the condition of each row in the original DataFrame. The labels are as follows:\n",
    "    - 2: durR = 1\n",
    "    - 1: durNR = 1\n",
    "    - 0: durW = 1\n",
    "    - 4: seizure = 1\n",
    "    - 5: noise/packet loss = 1\n",
    "\n",
    "2. Create a new DataFrame `brain_states` that only includes the 'start_epoch' column from the original DataFrame and a new 'brainstate' column that contains the mapped values from the `map_states` function.\n",
    "\n",
    "3. Reset the index of the new DataFrame for consistency.\n",
    "\n",
    "4. Create a new column 'end_epoch' in `brain_states` DataFrame. Each value in 'end_epoch' is incremented by 5 starting from 5.\n",
    "\n",
    "5. Reorder the DataFrame columns to ['brainstate','start_epoch','end_epoch'].\n",
    "\n",
    "6. Check and print the number of NaN values in the 'brainstate' column.\n",
    "\n",
    "7. Create a boolean mask to identify the NaN values in the 'brainstate' column, and then get the indices of these NaN values.\n",
    "\n",
    "8. Manually assign brain state labels to specific indices that were identified as having NaN values in the 'brainstate' column.\n",
    "\n",
    "9. Change the data type of the 'brainstate' column to 'int64' for consistency.\n",
    "\n",
    "10. Finally, the DataFrame `brain_states` is exported as a pickle file for future use. The file name includes an animal number for tracking.\n",
    "'''"
   ]
  },
  {
   "cell_type": "code",
   "execution_count": 5,
   "id": "4f81d0d0",
   "metadata": {},
   "outputs": [],
   "source": [
    "import numpy as np\n",
    "import pandas as pd"
   ]
  },
  {
   "cell_type": "code",
   "execution_count": 6,
   "id": "5651e20d",
   "metadata": {},
   "outputs": [
    {
     "ename": "FileNotFoundError",
     "evalue": "[Errno 2] No such file or directory: '/Users/valentinreateguirangel/Python/Scoring(melissa_format)/Data_excel/GRIN2B_SleepScoring_Alex.xlsx'",
     "output_type": "error",
     "traceback": [
      "\u001b[0;31m---------------------------------------------------------------------------\u001b[0m",
      "\u001b[0;31mFileNotFoundError\u001b[0m                         Traceback (most recent call last)",
      "\u001b[0;32m/var/folders/wl/b_c4bsms2td5h5xfhx0vck4r0000gn/T/ipykernel_35847/2580442077.py\u001b[0m in \u001b[0;36m<module>\u001b[0;34m\u001b[0m\n\u001b[1;32m      1\u001b[0m \u001b[0;31m#Read the excel file, page needs to be changed for each animal\u001b[0m\u001b[0;34m\u001b[0m\u001b[0;34m\u001b[0m\u001b[0m\n\u001b[0;32m----> 2\u001b[0;31m \u001b[0mdf\u001b[0m \u001b[0;34m=\u001b[0m \u001b[0mpd\u001b[0m\u001b[0;34m.\u001b[0m\u001b[0mread_excel\u001b[0m\u001b[0;34m(\u001b[0m\u001b[0;34mr'/Users/valentinreateguirangel/Python/Scoring(melissa_format)/Data_excel/GRIN2B_SleepScoring_Alex.xlsx'\u001b[0m\u001b[0;34m,\u001b[0m \u001b[0msheet_name\u001b[0m\u001b[0;34m=\u001b[0m\u001b[0;34m'129'\u001b[0m\u001b[0;34m)\u001b[0m\u001b[0;34m\u001b[0m\u001b[0;34m\u001b[0m\u001b[0m\n\u001b[0m",
      "\u001b[0;32m~/opt/anaconda3/lib/python3.9/site-packages/pandas/util/_decorators.py\u001b[0m in \u001b[0;36mwrapper\u001b[0;34m(*args, **kwargs)\u001b[0m\n\u001b[1;32m    309\u001b[0m                     \u001b[0mstacklevel\u001b[0m\u001b[0;34m=\u001b[0m\u001b[0mstacklevel\u001b[0m\u001b[0;34m,\u001b[0m\u001b[0;34m\u001b[0m\u001b[0;34m\u001b[0m\u001b[0m\n\u001b[1;32m    310\u001b[0m                 )\n\u001b[0;32m--> 311\u001b[0;31m             \u001b[0;32mreturn\u001b[0m \u001b[0mfunc\u001b[0m\u001b[0;34m(\u001b[0m\u001b[0;34m*\u001b[0m\u001b[0margs\u001b[0m\u001b[0;34m,\u001b[0m \u001b[0;34m**\u001b[0m\u001b[0mkwargs\u001b[0m\u001b[0;34m)\u001b[0m\u001b[0;34m\u001b[0m\u001b[0;34m\u001b[0m\u001b[0m\n\u001b[0m\u001b[1;32m    312\u001b[0m \u001b[0;34m\u001b[0m\u001b[0m\n\u001b[1;32m    313\u001b[0m         \u001b[0;32mreturn\u001b[0m \u001b[0mwrapper\u001b[0m\u001b[0;34m\u001b[0m\u001b[0;34m\u001b[0m\u001b[0m\n",
      "\u001b[0;32m~/opt/anaconda3/lib/python3.9/site-packages/pandas/io/excel/_base.py\u001b[0m in \u001b[0;36mread_excel\u001b[0;34m(io, sheet_name, header, names, index_col, usecols, squeeze, dtype, engine, converters, true_values, false_values, skiprows, nrows, na_values, keep_default_na, na_filter, verbose, parse_dates, date_parser, thousands, decimal, comment, skipfooter, convert_float, mangle_dupe_cols, storage_options)\u001b[0m\n\u001b[1;32m    455\u001b[0m     \u001b[0;32mif\u001b[0m \u001b[0;32mnot\u001b[0m \u001b[0misinstance\u001b[0m\u001b[0;34m(\u001b[0m\u001b[0mio\u001b[0m\u001b[0;34m,\u001b[0m \u001b[0mExcelFile\u001b[0m\u001b[0;34m)\u001b[0m\u001b[0;34m:\u001b[0m\u001b[0;34m\u001b[0m\u001b[0;34m\u001b[0m\u001b[0m\n\u001b[1;32m    456\u001b[0m         \u001b[0mshould_close\u001b[0m \u001b[0;34m=\u001b[0m \u001b[0;32mTrue\u001b[0m\u001b[0;34m\u001b[0m\u001b[0;34m\u001b[0m\u001b[0m\n\u001b[0;32m--> 457\u001b[0;31m         \u001b[0mio\u001b[0m \u001b[0;34m=\u001b[0m \u001b[0mExcelFile\u001b[0m\u001b[0;34m(\u001b[0m\u001b[0mio\u001b[0m\u001b[0;34m,\u001b[0m \u001b[0mstorage_options\u001b[0m\u001b[0;34m=\u001b[0m\u001b[0mstorage_options\u001b[0m\u001b[0;34m,\u001b[0m \u001b[0mengine\u001b[0m\u001b[0;34m=\u001b[0m\u001b[0mengine\u001b[0m\u001b[0;34m)\u001b[0m\u001b[0;34m\u001b[0m\u001b[0;34m\u001b[0m\u001b[0m\n\u001b[0m\u001b[1;32m    458\u001b[0m     \u001b[0;32melif\u001b[0m \u001b[0mengine\u001b[0m \u001b[0;32mand\u001b[0m \u001b[0mengine\u001b[0m \u001b[0;34m!=\u001b[0m \u001b[0mio\u001b[0m\u001b[0;34m.\u001b[0m\u001b[0mengine\u001b[0m\u001b[0;34m:\u001b[0m\u001b[0;34m\u001b[0m\u001b[0;34m\u001b[0m\u001b[0m\n\u001b[1;32m    459\u001b[0m         raise ValueError(\n",
      "\u001b[0;32m~/opt/anaconda3/lib/python3.9/site-packages/pandas/io/excel/_base.py\u001b[0m in \u001b[0;36m__init__\u001b[0;34m(self, path_or_buffer, engine, storage_options)\u001b[0m\n\u001b[1;32m   1374\u001b[0m                 \u001b[0mext\u001b[0m \u001b[0;34m=\u001b[0m \u001b[0;34m\"xls\"\u001b[0m\u001b[0;34m\u001b[0m\u001b[0;34m\u001b[0m\u001b[0m\n\u001b[1;32m   1375\u001b[0m             \u001b[0;32melse\u001b[0m\u001b[0;34m:\u001b[0m\u001b[0;34m\u001b[0m\u001b[0;34m\u001b[0m\u001b[0m\n\u001b[0;32m-> 1376\u001b[0;31m                 ext = inspect_excel_format(\n\u001b[0m\u001b[1;32m   1377\u001b[0m                     \u001b[0mcontent_or_path\u001b[0m\u001b[0;34m=\u001b[0m\u001b[0mpath_or_buffer\u001b[0m\u001b[0;34m,\u001b[0m \u001b[0mstorage_options\u001b[0m\u001b[0;34m=\u001b[0m\u001b[0mstorage_options\u001b[0m\u001b[0;34m\u001b[0m\u001b[0;34m\u001b[0m\u001b[0m\n\u001b[1;32m   1378\u001b[0m                 )\n",
      "\u001b[0;32m~/opt/anaconda3/lib/python3.9/site-packages/pandas/io/excel/_base.py\u001b[0m in \u001b[0;36minspect_excel_format\u001b[0;34m(content_or_path, storage_options)\u001b[0m\n\u001b[1;32m   1248\u001b[0m         \u001b[0mcontent_or_path\u001b[0m \u001b[0;34m=\u001b[0m \u001b[0mBytesIO\u001b[0m\u001b[0;34m(\u001b[0m\u001b[0mcontent_or_path\u001b[0m\u001b[0;34m)\u001b[0m\u001b[0;34m\u001b[0m\u001b[0;34m\u001b[0m\u001b[0m\n\u001b[1;32m   1249\u001b[0m \u001b[0;34m\u001b[0m\u001b[0m\n\u001b[0;32m-> 1250\u001b[0;31m     with get_handle(\n\u001b[0m\u001b[1;32m   1251\u001b[0m         \u001b[0mcontent_or_path\u001b[0m\u001b[0;34m,\u001b[0m \u001b[0;34m\"rb\"\u001b[0m\u001b[0;34m,\u001b[0m \u001b[0mstorage_options\u001b[0m\u001b[0;34m=\u001b[0m\u001b[0mstorage_options\u001b[0m\u001b[0;34m,\u001b[0m \u001b[0mis_text\u001b[0m\u001b[0;34m=\u001b[0m\u001b[0;32mFalse\u001b[0m\u001b[0;34m\u001b[0m\u001b[0;34m\u001b[0m\u001b[0m\n\u001b[1;32m   1252\u001b[0m     ) as handle:\n",
      "\u001b[0;32m~/opt/anaconda3/lib/python3.9/site-packages/pandas/io/common.py\u001b[0m in \u001b[0;36mget_handle\u001b[0;34m(path_or_buf, mode, encoding, compression, memory_map, is_text, errors, storage_options)\u001b[0m\n\u001b[1;32m    793\u001b[0m         \u001b[0;32melse\u001b[0m\u001b[0;34m:\u001b[0m\u001b[0;34m\u001b[0m\u001b[0;34m\u001b[0m\u001b[0m\n\u001b[1;32m    794\u001b[0m             \u001b[0;31m# Binary mode\u001b[0m\u001b[0;34m\u001b[0m\u001b[0;34m\u001b[0m\u001b[0m\n\u001b[0;32m--> 795\u001b[0;31m             \u001b[0mhandle\u001b[0m \u001b[0;34m=\u001b[0m \u001b[0mopen\u001b[0m\u001b[0;34m(\u001b[0m\u001b[0mhandle\u001b[0m\u001b[0;34m,\u001b[0m \u001b[0mioargs\u001b[0m\u001b[0;34m.\u001b[0m\u001b[0mmode\u001b[0m\u001b[0;34m)\u001b[0m\u001b[0;34m\u001b[0m\u001b[0;34m\u001b[0m\u001b[0m\n\u001b[0m\u001b[1;32m    796\u001b[0m         \u001b[0mhandles\u001b[0m\u001b[0;34m.\u001b[0m\u001b[0mappend\u001b[0m\u001b[0;34m(\u001b[0m\u001b[0mhandle\u001b[0m\u001b[0;34m)\u001b[0m\u001b[0;34m\u001b[0m\u001b[0;34m\u001b[0m\u001b[0m\n\u001b[1;32m    797\u001b[0m \u001b[0;34m\u001b[0m\u001b[0m\n",
      "\u001b[0;31mFileNotFoundError\u001b[0m: [Errno 2] No such file or directory: '/Users/valentinreateguirangel/Python/Scoring(melissa_format)/Data_excel/GRIN2B_SleepScoring_Alex.xlsx'"
     ]
    }
   ],
   "source": [
    "#Read the excel file, page needs to be changed for each animal \n",
    "df = pd.read_excel(r'/Users/valentinreateguirangel/Python/Scoring(melissa_format)/Data_excel/GRIN2B_SleepScoring_Alex.xlsx', sheet_name='129')"
   ]
  },
  {
   "cell_type": "code",
   "execution_count": null,
   "id": "454e7b58",
   "metadata": {},
   "outputs": [],
   "source": [
    "#function that maps all possible options in the brain state file \n",
    "def map_states(x):\n",
    "    if x['durR'] == 1:\n",
    "        return 2\n",
    "    elif x['durNR'] == 1:\n",
    "        return 1\n",
    "    elif x['durW'] == 1:\n",
    "        return 0\n",
    "    elif x['seizure'] == 1:\n",
    "        return 4\n",
    "    elif x['noise/packet loss'] == 1:\n",
    "        return 5\n",
    "\n",
    "# Create a new DataFrame with the mapped values\n",
    "brain_states = pd.DataFrame()\n",
    "brain_states['start_epoch'] = df['start_epoch']\n",
    "brain_states['brainstate'] = df.apply(map_states, axis=1)\n",
    "\n",
    "# Reset the index of the new DataFrame\n",
    "brain_states = brain_states.reset_index(drop=True)"
   ]
  },
  {
   "cell_type": "code",
   "execution_count": null,
   "id": "38469edf",
   "metadata": {},
   "outputs": [],
   "source": [
    "#Create new column with end.epoch\n",
    "brain_states['end_epoch'] = range(5, len(brain_states)*5 + 1, 5)"
   ]
  },
  {
   "cell_type": "code",
   "execution_count": 3,
   "id": "5ca03733",
   "metadata": {},
   "outputs": [
    {
     "ename": "NameError",
     "evalue": "name 'brain_states' is not defined",
     "output_type": "error",
     "traceback": [
      "\u001b[0;31m---------------------------------------------------------------------------\u001b[0m",
      "\u001b[0;31mNameError\u001b[0m                                 Traceback (most recent call last)",
      "\u001b[0;32m/var/folders/wl/b_c4bsms2td5h5xfhx0vck4r0000gn/T/ipykernel_35847/2234679178.py\u001b[0m in \u001b[0;36m<module>\u001b[0;34m\u001b[0m\n\u001b[1;32m      1\u001b[0m \u001b[0;31m#Reindex the new brain_state object with the right format\u001b[0m\u001b[0;34m\u001b[0m\u001b[0;34m\u001b[0m\u001b[0m\n\u001b[0;32m----> 2\u001b[0;31m \u001b[0mbrain_states\u001b[0m \u001b[0;34m=\u001b[0m \u001b[0mbrain_states\u001b[0m\u001b[0;34m.\u001b[0m\u001b[0mreindex\u001b[0m\u001b[0;34m(\u001b[0m\u001b[0mcolumns\u001b[0m \u001b[0;34m=\u001b[0m \u001b[0;34m[\u001b[0m\u001b[0;34m'brainstate'\u001b[0m\u001b[0;34m,\u001b[0m\u001b[0;34m'start_epoch'\u001b[0m\u001b[0;34m,\u001b[0m\u001b[0;34m'end_epoch'\u001b[0m\u001b[0;34m]\u001b[0m\u001b[0;34m)\u001b[0m\u001b[0;34m\u001b[0m\u001b[0;34m\u001b[0m\u001b[0m\n\u001b[0m\u001b[1;32m      3\u001b[0m \u001b[0mprint\u001b[0m\u001b[0;34m(\u001b[0m\u001b[0mbrain_states\u001b[0m\u001b[0;34m[\u001b[0m\u001b[0;34m'brainstate'\u001b[0m\u001b[0;34m]\u001b[0m\u001b[0;34m.\u001b[0m\u001b[0misna\u001b[0m\u001b[0;34m(\u001b[0m\u001b[0;34m)\u001b[0m\u001b[0;34m.\u001b[0m\u001b[0msum\u001b[0m\u001b[0;34m(\u001b[0m\u001b[0;34m)\u001b[0m\u001b[0;34m)\u001b[0m\u001b[0;34m\u001b[0m\u001b[0;34m\u001b[0m\u001b[0m\n",
      "\u001b[0;31mNameError\u001b[0m: name 'brain_states' is not defined"
     ]
    }
   ],
   "source": [
    "#Reindex the new brain_state object with the right format\n",
    "brain_states = brain_states.reindex(columns = ['brainstate','start_epoch','end_epoch'])\n",
    "print(brain_states['brainstate'].isna().sum())"
   ]
  },
  {
   "cell_type": "code",
   "execution_count": 4,
   "id": "b5854310",
   "metadata": {},
   "outputs": [
    {
     "ename": "NameError",
     "evalue": "name 'brain_states' is not defined",
     "output_type": "error",
     "traceback": [
      "\u001b[0;31m---------------------------------------------------------------------------\u001b[0m",
      "\u001b[0;31mNameError\u001b[0m                                 Traceback (most recent call last)",
      "\u001b[0;32m/var/folders/wl/b_c4bsms2td5h5xfhx0vck4r0000gn/T/ipykernel_35847/567516484.py\u001b[0m in \u001b[0;36m<module>\u001b[0;34m\u001b[0m\n\u001b[1;32m      1\u001b[0m \u001b[0;31m# create a boolean mask of NaN values in the 'brainstate' column\u001b[0m\u001b[0;34m\u001b[0m\u001b[0;34m\u001b[0m\u001b[0m\n\u001b[0;32m----> 2\u001b[0;31m \u001b[0mmask\u001b[0m \u001b[0;34m=\u001b[0m \u001b[0mbrain_states\u001b[0m\u001b[0;34m[\u001b[0m\u001b[0;34m'brainstate'\u001b[0m\u001b[0;34m]\u001b[0m\u001b[0;34m.\u001b[0m\u001b[0misna\u001b[0m\u001b[0;34m(\u001b[0m\u001b[0;34m)\u001b[0m\u001b[0;34m\u001b[0m\u001b[0;34m\u001b[0m\u001b[0m\n\u001b[0m\u001b[1;32m      3\u001b[0m \u001b[0;34m\u001b[0m\u001b[0m\n\u001b[1;32m      4\u001b[0m \u001b[0;31m# get the indices where the mask is True\u001b[0m\u001b[0;34m\u001b[0m\u001b[0;34m\u001b[0m\u001b[0m\n\u001b[1;32m      5\u001b[0m \u001b[0mindices\u001b[0m \u001b[0;34m=\u001b[0m \u001b[0mnp\u001b[0m\u001b[0;34m.\u001b[0m\u001b[0mwhere\u001b[0m\u001b[0;34m(\u001b[0m\u001b[0mmask\u001b[0m\u001b[0;34m)\u001b[0m\u001b[0;34m[\u001b[0m\u001b[0;36m0\u001b[0m\u001b[0;34m]\u001b[0m\u001b[0;34m\u001b[0m\u001b[0;34m\u001b[0m\u001b[0m\n",
      "\u001b[0;31mNameError\u001b[0m: name 'brain_states' is not defined"
     ]
    }
   ],
   "source": [
    "# create a boolean mask of NaN values in the 'brainstate' column\n",
    "mask = brain_states['brainstate'].isna()\n",
    "\n",
    "# get the indices where the mask is True\n",
    "indices = np.where(mask)[0]\n",
    "\n",
    "print(indices)"
   ]
  },
  {
   "cell_type": "code",
   "execution_count": 17,
   "id": "33f90fa5",
   "metadata": {},
   "outputs": [],
   "source": [
    "#modify values per index to change unexpected Na\n",
    "brain_states.loc[2784, 'brainstate'] = 4\n",
    "brain_states.loc[2785, 'brainstate'] = 4\n",
    "brain_states.loc[2786, 'brainstate'] = 2\n",
    "brain_states.loc[2787, 'brainstate'] = 2\n",
    "brain_states.loc[2788, 'brainstate'] = 2\n",
    "brain_states.loc[2789, 'brainstate'] = 2\n",
    "brain_states.loc[2790, 'brainstate'] = 2\n",
    "brain_states.loc[2791, 'brainstate'] = 2\n",
    "brain_states.loc[2792, 'brainstate'] = 2\n",
    "brain_states.loc[2793, 'brainstate'] = 2\n",
    "brain_states.loc[2794, 'brainstate'] = 2\n",
    "brain_states.loc[2795, 'brainstate'] = 2\n",
    "brain_states.loc[2796, 'brainstate'] = 2\n",
    "brain_states.loc[2797, 'brainstate'] = 2\n",
    "brain_states.loc[2798, 'brainstate'] = 2\n",
    "brain_states.loc[2799, 'brainstate'] = 2\n",
    "brain_states.loc[2800, 'brainstate'] = 2\n",
    "brain_states.loc[2801, 'brainstate'] = 2\n",
    "brain_states.loc[2802, 'brainstate'] = 2"
   ]
  },
  {
   "cell_type": "code",
   "execution_count": 21,
   "id": "84d6650f",
   "metadata": {},
   "outputs": [],
   "source": [
    "brain_states['brainstate'] = brain_states['brainstate'].astype('int64')"
   ]
  },
  {
   "cell_type": "code",
   "execution_count": 22,
   "id": "f99a7494",
   "metadata": {},
   "outputs": [],
   "source": [
    "#export as pickle file, number needs to be changed to keep track of each animal \n",
    "brain_states.to_pickle('129_score.pkl')"
   ]
  },
  {
   "cell_type": "code",
   "execution_count": 24,
   "id": "7e39378d",
   "metadata": {},
   "outputs": [],
   "source": [
    "# Open the file and load the data into a DataFrame\n",
    "score= pd.read_pickle('129_score.pkl')"
   ]
  },
  {
   "cell_type": "code",
   "execution_count": null,
   "id": "bd9a4158-cad3-4897-9e2b-451006abe67e",
   "metadata": {},
   "outputs": [],
   "source": [
    "print(score.dtypes)"
   ]
  },
  {
   "cell_type": "code",
   "execution_count": null,
   "id": "c9a82452",
   "metadata": {},
   "outputs": [],
   "source": []
  }
 ],
 "metadata": {
  "kernelspec": {
   "display_name": "Python 3 (ipykernel)",
   "language": "python",
   "name": "python3"
  },
  "language_info": {
   "codemirror_mode": {
    "name": "ipython",
    "version": 3
   },
   "file_extension": ".py",
   "mimetype": "text/x-python",
   "name": "python",
   "nbconvert_exporter": "python",
   "pygments_lexer": "ipython3",
   "version": "3.9.13"
  }
 },
 "nbformat": 4,
 "nbformat_minor": 5
}
